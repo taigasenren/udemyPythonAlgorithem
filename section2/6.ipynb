{
 "metadata": {
  "language_info": {
   "codemirror_mode": {
    "name": "ipython",
    "version": 3
   },
   "file_extension": ".py",
   "mimetype": "text/x-python",
   "name": "python",
   "nbconvert_exporter": "python",
   "pygments_lexer": "ipython3",
   "version": 3
  },
  "orig_nbformat": 2
 },
 "nbformat": 4,
 "nbformat_minor": 2,
 "cells": [
  {
   "cell_type": "code",
   "execution_count": null,
   "metadata": {},
   "outputs": [],
   "source": [
    "#擬似コードとは\n",
    "\n",
    "アルゴリズムを自然言語によって表現\n",
    "\n",
    "pythonのプログラムを自然言語でかく\n",
    "\n",
    "擬似コードで問題のかいけつ方法を考える\n",
    "プログラミング言語で擬似コードを表現する方法を考える\n",
    "\n",
    "プログラミングの基本3構造\n",
    "    逐次実行、条件処理、繰り返し\n",
    "    →正確さ、詳細さが重要\n"
   ]
  }
 ]
}