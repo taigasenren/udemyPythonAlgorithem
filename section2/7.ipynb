{
 "metadata": {
  "language_info": {
   "codemirror_mode": {
    "name": "ipython",
    "version": 3
   },
   "file_extension": ".py",
   "mimetype": "text/x-python",
   "name": "python",
   "nbconvert_exporter": "python",
   "pygments_lexer": "ipython3",
   "version": 3
  },
  "orig_nbformat": 2
 },
 "nbformat": 4,
 "nbformat_minor": 2,
 "cells": [
  {
   "cell_type": "code",
   "execution_count": null,
   "metadata": {},
   "outputs": [],
   "source": [
    "計算量とは\n",
    "\n",
    "アルゴリズムの評価のものさし\n",
    "\n",
    "時間計算量\n",
    "    プログラムを実行したときの時間\n",
    "\n",
    "領域計算量\n",
    "    必要なメモリ内の記憶領域\n",
    "\n",
    "o表記法で時間を表す"
   ]
  }
 ]
}