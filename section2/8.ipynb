{
 "metadata": {
  "language_info": {
   "codemirror_mode": {
    "name": "ipython",
    "version": 3
   },
   "file_extension": ".py",
   "mimetype": "text/x-python",
   "name": "python",
   "nbconvert_exporter": "python",
   "pygments_lexer": "ipython3",
   "version": 3
  },
  "orig_nbformat": 2
 },
 "nbformat": 4,
 "nbformat_minor": 2,
 "cells": [
  {
   "cell_type": "code",
   "execution_count": null,
   "metadata": {},
   "outputs": [],
   "source": [
    "データ数1000倍\n",
    "\n",
    "o(n)→計算量は1000\n",
    "o(n**)→計算量は1000000\n",
    "\n",
    "データの増加にo(n)のほうが強い\n",
    "\n",
    "データの内容によって計算量が異なるアルゴリズムがある\n",
    "\n",
    "計算量には最善、最悪、平均の計算量が考えられる\n"
   ]
  }
 ]
}