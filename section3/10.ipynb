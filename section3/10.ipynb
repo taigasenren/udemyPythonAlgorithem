{
 "metadata": {
  "language_info": {
   "codemirror_mode": {
    "name": "ipython",
    "version": 3
   },
   "file_extension": ".py",
   "mimetype": "text/x-python",
   "name": "python",
   "nbconvert_exporter": "python",
   "pygments_lexer": "ipython3",
   "version": "3.9.0-final"
  },
  "orig_nbformat": 2,
  "kernelspec": {
   "name": "python3",
   "display_name": "Python 3"
  }
 },
 "nbformat": 4,
 "nbformat_minor": 2,
 "cells": [
  {
   "cell_type": "code",
   "execution_count": null,
   "metadata": {},
   "outputs": [],
   "source": [
    "選択ソートでやる(最小値を見つけ先頭と交換)\n",
    "\n",
    "num = [3,23,36,6773,213,1,1,2351]\n"
   ]
  },
  {
   "cell_type": "code",
   "execution_count": null,
   "metadata": {},
   "outputs": [],
   "source": [
    "最小値を見つける方法\n",
    "\n",
    "最初の値を取得します\n"
   ]
  },
  {
   "cell_type": "code",
   "execution_count": null,
   "metadata": {},
   "outputs": [],
   "source": [
    "以下の操作を配列の要素数-1回繰り返す\n",
    "    未ソート部分から最小の要素の位置minを特定\n",
    "    minの位置にある要素と未ソート部分の先頭要素を交換"
   ]
  },
  {
   "cell_type": "code",
   "execution_count": 5,
   "metadata": {},
   "outputs": [
    {
     "output_type": "stream",
     "name": "stdout",
     "text": [
      "i 0\narr [3, 23, 36, 6773, 213, 1, 1, 2351]\nmin 0\nj 1\nj 2\nj 3\nj 4\nj 5\nmin2 5\nj 6\nj 7\ni 1\narr [1, 23, 36, 6773, 213, 3, 1, 2351]\nmin 1\nj 2\nj 3\nj 4\nj 5\nmin2 5\nj 6\nmin2 6\nj 7\ni 2\narr [1, 1, 36, 6773, 213, 3, 23, 2351]\nmin 2\nj 3\nj 4\nj 5\nmin2 5\nj 6\nj 7\ni 3\narr [1, 1, 3, 6773, 213, 36, 23, 2351]\nmin 3\nj 4\nmin2 4\nj 5\nmin2 5\nj 6\nmin2 6\nj 7\ni 4\narr [1, 1, 3, 23, 213, 36, 6773, 2351]\nmin 4\nj 5\nmin2 5\nj 6\nj 7\ni 5\narr [1, 1, 3, 23, 36, 213, 6773, 2351]\nmin 5\nj 6\nj 7\ni 6\narr [1, 1, 3, 23, 36, 213, 6773, 2351]\nmin 6\nj 7\nmin2 7\n[1, 1, 3, 23, 36, 213, 2351, 6773]\n"
     ]
    }
   ],
   "source": [
    "#関数ベースで考える\n",
    "#arrに配列が入る\n",
    "def select_sort(arr):\n",
    "    #配列の要素数-1回繰り返す\n",
    "    for i in range(0, len(arr)-1):\n",
    "        print(\"i\",i)\n",
    "        print(\"arr\",arr)\n",
    "        select_min(arr,i)\n",
    "\n",
    "def select_min(arr,i):\n",
    "    #最小要素の位置の特定\n",
    "    min = i\n",
    "    print(\"min\",min)\n",
    "    for j in range(i + 1,len(arr)):\n",
    "        print(\"j\",j)\n",
    "        if arr[min] > arr[j]:\n",
    "            min = j\n",
    "            print(\"min2\",min)\n",
    "    #最小要素要素と先頭要素を交換        \n",
    "    arr[i],arr[min] = arr[min],arr[i]\n",
    "\n",
    "num = [3,23,36,6773,213,1,1,2351]\n",
    "select_sort(num)\n",
    "print(num)"
   ]
  },
  {
   "cell_type": "code",
   "execution_count": null,
   "metadata": {},
   "outputs": [],
   "source": []
  }
 ]
}