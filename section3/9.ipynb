{
 "metadata": {
  "language_info": {
   "codemirror_mode": {
    "name": "ipython",
    "version": 3
   },
   "file_extension": ".py",
   "mimetype": "text/x-python",
   "name": "python",
   "nbconvert_exporter": "python",
   "pygments_lexer": "ipython3",
   "version": "3.9.0-final"
  },
  "orig_nbformat": 2,
  "kernelspec": {
   "name": "python3",
   "display_name": "Python 3"
  }
 },
 "nbformat": 4,
 "nbformat_minor": 2,
 "cells": [
  {
   "cell_type": "code",
   "execution_count": null,
   "metadata": {},
   "outputs": [],
   "source": [
    "#ソートとは\n",
    "昇順\n",
    "降順にする処理ｓ\n",
    "\n",
    "配列\n"
   ]
  },
  {
   "cell_type": "code",
   "execution_count": 1,
   "metadata": {},
   "outputs": [
    {
     "output_type": "stream",
     "name": "stdout",
     "text": [
      "[4, 12, 12, 26, 35, 131, 245, 324, 457, 2462]\n"
     ]
    }
   ],
   "source": [
    "org_list = [12,12,4,2462,26,35,131,324,245,457]\n",
    "\n",
    "#.sortでいける\n",
    "org_list.sort()\n",
    "print(org_list)"
   ]
  },
  {
   "cell_type": "code",
   "execution_count": null,
   "metadata": {},
   "outputs": [],
   "source": [
    "sorted()関数のようなものを作る\n",
    "\n",
    "関数を定義\n",
    "\n",
    "数列の一番最初のをとって、\n",
    "次の数列を取る、\n",
    "比較する\n",
    "比較した数で少ない方を入れ替える\n",
    "これを最初の数値から最後の数値まですべて順におこなう　\n",
    "\n",
    "\n"
   ]
  }
 ]
}